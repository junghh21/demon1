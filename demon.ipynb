{
 "cells": [
  {
   "cell_type": "code",
   "execution_count": null,
   "id": "0307c1cd",
   "metadata": {},
   "outputs": [
    {
     "name": "stdout",
     "output_type": "stream",
     "text": [
      "Amethyst 102\n"
     ]
    },
    {
     "data": {
      "text/plain": [
       "CompletedProcess(args='start length.csv', returncode=0)"
      ]
     },
     "execution_count": 22,
     "metadata": {},
     "output_type": "execute_result"
    }
   ],
   "source": [
    "import requests\n",
    "from lxml import html\n",
    "import json\n",
    "import csv\n",
    "import subprocess\n",
    "\n",
    "names = []\n",
    "lens = []\n",
    "for i in range(1, 2):\n",
    "\ttarget_url = f\"https://api.demonlist.org/levels/classic?place={i}\"\n",
    "\tresponse = requests.get(target_url)\n",
    "\t#print(response.content)\n",
    "\tdata = json.loads(response.content)\n",
    "\tdata = data['data'][0]\n",
    "\tprint(data['name'], data['length'])\n",
    "\tnames.append(data['name'])\n",
    "\tlens.append(data['length'])\n",
    "\n",
    "with open('length.csv', 'w', newline='') as f:\n",
    "\twriter = csv.writer(f)\n",
    "\twriter.writerow(['Rank', 'Name', 'Length(s)'])\n",
    "\tfor i, (n, l) in enumerate(zip(names, lens)):\n",
    "\t\twriter.writerow([i+1, n, l])\n",
    "\n",
    "# Run a shell command\n",
    "subprocess.run(\"start length.csv\", shell=True)\n",
    "\n",
    "\n",
    "\n",
    "\n"
   ]
  }
 ],
 "metadata": {
  "kernelspec": {
   "display_name": "venv_get (3.10.11)",
   "language": "python",
   "name": "python3"
  },
  "language_info": {
   "codemirror_mode": {
    "name": "ipython",
    "version": 3
   },
   "file_extension": ".py",
   "mimetype": "text/x-python",
   "name": "python",
   "nbconvert_exporter": "python",
   "pygments_lexer": "ipython3",
   "version": "3.10.11"
  }
 },
 "nbformat": 4,
 "nbformat_minor": 5
}
